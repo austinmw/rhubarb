{
 "cells": [
  {
   "cell_type": "markdown",
   "metadata": {},
   "source": [
    "# Video Analysis with Rhubarb\n",
    "\n",
    "This notebook demonstrates how to use Rhubarb's video analysis capabilities with Amazon Bedrock's Nova models."
   ]
  },
  {
   "cell_type": "markdown",
   "metadata": {},
   "source": [
    "## Setup\n",
    "\n",
    "First, let's import the necessary libraries and set up our environment."
   ]
  },
  {
   "cell_type": "code",
   "execution_count": null,
   "metadata": {},
   "outputs": [],
   "source": [
    "import boto3\n",
    "from rhubarb import VideoAnalysis, LanguageModels\n",
    "\n",
    "# Create a boto3 session\n",
    "session = boto3.Session(region_name=\"us-east-1\")"
   ]
  },
  {
   "cell_type": "markdown",
   "metadata": {},
   "source": [
    "## Basic Video Analysis\n",
    "\n",
    "To analyze a video, we need to create a `VideoAnalysis` object and point it to a video stored in S3."
   ]
  },
  {
   "cell_type": "code",
   "execution_count": null,
   "metadata": {},
   "outputs": [],
   "source": [
    "# Initialize with a video in S3\n",
    "va = VideoAnalysis(\n",
    "    file_path=\"s3://your-bucket-name/your-video.mp4\",\n",
    "    boto3_session=session,\n",
    "    modelId=LanguageModels.NOVA_PRO  # For higher quality analysis\n",
    ")"
   ]
  },
  {
   "cell_type": "markdown",
   "metadata": {},
   "source": [
    "Now we can ask questions about the video:"
   ]
  },
  {
   "cell_type": "code",
   "execution_count": null,
   "metadata": {},
   "outputs": [],
   "source": [
    "# Ask a question about the video\n",
    "response = va.run(message=\"What is happening in this video?\")\n",
    "print(response)"
   ]
  },
  {
   "cell_type": "markdown",
   "metadata": {},
   "source": [
    "## Asking Specific Questions\n",
    "\n",
    "You can ask specific questions about the video content:"
   ]
  },
  {
   "cell_type": "code",
   "execution_count": null,
   "metadata": {},
   "outputs": [],
   "source": [
    "# Generate a summary of the video\n",
    "summary = va.run(message=\"Provide a comprehensive summary of this video\")\n",
    "print(summary)\n",
    "\n",
    "# Extract entities from the video\n",
    "entities = va.run(message=\"What people, objects, and locations appear in this video?\")\n",
    "print(entities)\n",
    "\n",
    "# Analyze actions in the video\n",
    "actions = va.run(message=\"Describe the main actions and movements in this video\")\n",
    "print(actions)\n",
    "\n",
    "# Extract text visible in the video\n",
    "text = va.run(message=\"Extract any visible text from this video\")\n",
    "print(text)"
   ]
  },
  {
   "cell_type": "markdown",
   "metadata": {},
   "source": [
    "## Streaming Responses\n",
    "\n",
    "For longer videos or when you want to see results faster, you can use streaming responses:"
   ]
  },
  {
   "cell_type": "code",
   "execution_count": null,
   "metadata": {},
   "outputs": [],
   "source": [
    "# Stream responses for better user experience\n",
    "for chunk in va.run_stream(message=\"Analyze this video in detail\"):\n",
    "    if \"response\" in chunk:\n",
    "        print(chunk[\"response\"], end=\"\")"
   ]
  },
  {
   "cell_type": "markdown",
   "metadata": {},
   "source": [
    "## Advanced Configuration\n",
    "\n",
    "You can configure additional parameters for video analysis:"
   ]
  },
  {
   "cell_type": "code",
   "execution_count": null,
   "metadata": {},
   "outputs": [],
   "source": [
    "# Configure with advanced options\n",
    "va_advanced = VideoAnalysis(\n",
    "    file_path=\"s3://your-bucket-name/your-video.mp4\",\n",
    "    boto3_session=session,\n",
    "    modelId=LanguageModels.NOVA_PRO,\n",
    "    max_tokens=2048,           # Control response length\n",
    "    temperature=0.2,           # Adjust creativity\n",
    "    use_converse_api=True,     # Use Bedrock's converse API\n",
    "    enable_cri=True            # Enable cross-region inference\n",
    ")"
   ]
  },
  {
   "cell_type": "markdown",
   "metadata": {},
   "source": [
    "## Custom Queries\n",
    "\n",
    "You can ask any custom question about the video:"
   ]
  },
  {
   "cell_type": "code",
   "execution_count": null,
   "metadata": {},
   "outputs": [],
   "source": [
    "# Ask a custom question\n",
    "custom_query = va.run(message=\"What emotions are displayed by people in this video?\")\n",
    "print(custom_query)"
   ]
  },
  {
   "cell_type": "markdown",
   "metadata": {},
   "source": [
    "## Limitations\n",
    "\n",
    "- Currently only supports videos stored in Amazon S3\n",
    "- Requires Amazon Nova models (NOVA_PRO or NOVA_LITE)\n",
    "- Video processing capabilities are determined by the underlying model's capabilities"
   ]
  }
 ],
 "metadata": {
  "kernelspec": {
   "display_name": "Python 3",
   "language": "python",
   "name": "python3"
  },
  "language_info": {
   "codemirror_mode": {
    "name": "ipython",
    "version": 3
   },
   "file_extension": ".py",
   "mimetype": "text/x-python",
   "name": "python",
   "nbconvert_exporter": "python",
   "pygments_lexer": "ipython3",
   "version": "3.11.0"
  }
 },
 "nbformat": 4,
 "nbformat_minor": 4
}
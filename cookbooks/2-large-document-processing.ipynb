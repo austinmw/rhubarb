{
 "cells": [
  {
   "cell_type": "markdown",
   "metadata": {},
   "source": [
    "# Rhubarb Large Document Processing\n",
    "\n",
    "This cookbook demonstrates how to use Rhubarb's sliding window approach to process documents with more than 20 pages using Claude models.\n",
    "\n",
    "Claude models have a limitation of processing only 20 pages at a time. Rhubarb provides a sliding window approach to process larger documents by breaking them into chunks and processing each chunk separately."
   ]
  },
  {
   "cell_type": "code",
   "execution_count": null,
   "metadata": {},
   "outputs": [],
   "source": [
    "import boto3\n",
    "import os\n",
    "import json\n",
    "from rhubarb import DocAnalysis\n",
    "from rhubarb.models import LanguageModels"
   ]
  },
  {
   "cell_type": "markdown",
   "metadata": {},
   "source": [
    "## Setup\n",
    "\n",
    "First, let's set up our AWS session and create a DocAnalysis object with sliding window enabled."
   ]
  },
  {
   "cell_type": "code",
   "execution_count": null,
   "metadata": {},
   "outputs": [],
   "source": [
    "# Initialize AWS session\n",
    "session = boto3.Session()\n",
    "\n",
    "# Path to a large PDF document (more than 20 pages)\n",
    "file_path = \"path/to/your/large-document.pdf\"\n",
    "\n",
    "# Create DocAnalysis with sliding window enabled\n",
    "doc_analysis = DocAnalysis(\n",
    "    file_path=file_path,\n",
    "    boto3_session=session,\n",
    "    modelId=LanguageModels.CLAUDE_SONNET_V2,\n",
    "    max_tokens=2048,\n",
    "    temperature=0.0,\n",
    "    sliding_window_overlap=2     # Number of pages to overlap between windows (1-10)\n",
    ")"
   ]
  },
  {
   "cell_type": "markdown",
   "metadata": {},
   "source": [
    "## Process a Large Document\n",
    "\n",
    "Now let's process the document by asking a question about its content."
   ]
  },
  {
   "cell_type": "code",
   "execution_count": null,
   "metadata": {},
   "outputs": [],
   "source": [
    "# Ask a question about the document\n",
    "question = \"Please summarize the main points of this document.\"\n",
    "\n",
    "# Process the document\n",
    "response = doc_analysis.run(question)\n",
    "\n",
    "# Print the response\n",
    "print(json.dumps(response, indent=2))"
   ]
  },
  {
   "cell_type": "markdown",
   "metadata": {},
   "source": [
    "## Understanding the Response\n",
    "\n",
    "When using the sliding window approach, the response will contain results from each window along with metadata about the processing."
   ]
  },
  {
   "cell_type": "code",
   "execution_count": null,
   "metadata": {},
   "outputs": [],
   "source": [
    "# Extract window information\n",
    "if \"sliding_window_processing\" in response:\n",
    "    print(f\"Total windows processed: {response['sliding_window_processing']['total_windows']}\")\n",
    "    \n",
    "    # Print information about each window\n",
    "    for i, window_info in enumerate(response['sliding_window_processing']['window_info']):\n",
    "        print(f\"Window {i+1}: Pages {window_info['current_window_start']}-{window_info['current_window_end']} of {window_info['total_pages']}\")"
   ]
  },
  {
   "cell_type": "markdown",
   "metadata": {},
   "source": [
    "## Using a Custom Output Schema\n",
    "\n",
    "You can also use a custom output schema with the sliding window approach."
   ]
  },
  {
   "cell_type": "code",
   "execution_count": null,
   "metadata": {},
   "outputs": [],
   "source": [
    "# Define a custom output schema\n",
    "output_schema = {\n",
    "    \"type\": \"object\",\n",
    "    \"properties\": {\n",
    "        \"summary\": {\n",
    "            \"type\": \"string\",\n",
    "            \"description\": \"A summary of the document content\"\n",
    "        },\n",
    "        \"key_points\": {\n",
    "            \"type\": \"array\",\n",
    "            \"items\": {\n",
    "                \"type\": \"string\"\n",
    "            },\n",
    "            \"description\": \"Key points from the document\"\n",
    "        }\n",
    "    },\n",
    "    \"required\": [\"summary\", \"key_points\"]\n",
    "}\n",
    "\n",
    "# Process the document with the custom schema\n",
    "response_with_schema = doc_analysis.run(\n",
    "    \"Please summarize the main points of this document.\",\n",
    "    output_schema=output_schema\n",
    ")\n",
    "\n",
    "# Print the response\n",
    "print(json.dumps(response_with_schema, indent=2))"
   ]
  },
  {
   "cell_type": "markdown",
   "metadata": {},
   "source": [
    "## Manually Using the LargeDocumentProcessor\n",
    "\n",
    "For more control over the processing, you can use the LargeDocumentProcessor directly."
   ]
  },
  {
   "cell_type": "code",
   "execution_count": null,
   "metadata": {},
   "outputs": [],
   "source": [
    "from rhubarb.file_converter import LargeDocumentProcessor\n",
    "\n",
    "# Create a LargeDocumentProcessor\n",
    "processor = LargeDocumentProcessor(file_path=file_path, s3_client=session.client('s3'))\n",
    "\n",
    "# Get information about the document\n",
    "print(f\"Total pages: {processor.total_pages}\")\n",
    "print(f\"Current window: {processor.get_window_info()}\")\n",
    "\n",
    "# Get the current window of pages as base64\n",
    "pages = processor.get_pages_as_base64()\n",
    "print(f\"Number of pages in current window: {len(pages)}\")\n",
    "\n",
    "# Move to the next window\n",
    "processor.move_to_next_window(overlap=2)\n",
    "print(f\"After moving to next window: {processor.get_window_info()}\")"
   ]
  },
  {
   "cell_type": "markdown",
   "metadata": {},
   "source": [
    "## Custom Processing Function\n",
    "\n",
    "You can also define a custom processing function to use with the LargeDocumentProcessor."
   ]
  },
  {
   "cell_type": "code",
   "execution_count": null,
   "metadata": {},
   "outputs": [],
   "source": [
    "def custom_processor(page_data, **kwargs):\n",
    "    \"\"\"Custom function to process a window of pages\"\"\"\n",
    "    window_info = kwargs.get(\"window_info\", {})\n",
    "    \n",
    "    # Print information about the current window\n",
    "    print(f\"Processing pages {window_info['current_window_start']}-{window_info['current_window_end']} of {window_info['total_pages']}\")\n",
    "    \n",
    "    # Here you would typically process the pages using your own logic\n",
    "    # For this example, we'll just return some basic information\n",
    "    return {\n",
    "        \"pages_processed\": len(page_data),\n",
    "        \"page_numbers\": [page[\"page\"] for page in page_data],\n",
    "        \"window_info\": window_info\n",
    "    }\n",
    "\n",
    "# Process the entire document using our custom function\n",
    "results = processor.process_document(\n",
    "    processor_func=custom_processor,\n",
    "    use_converse_api=False,\n",
    "    overlap=2\n",
    ")\n",
    "\n",
    "# Print the results\n",
    "print(json.dumps(results, indent=2))"
   ]
  },
  {
   "cell_type": "markdown",
   "metadata": {},
   "source": [
    "## Conclusion\n",
    "\n",
    "In this cookbook, we've demonstrated how to use Rhubarb's sliding window approach to process documents with more than 20 pages using Claude models. This approach allows you to work with large documents while respecting Claude's 20-page limitation."
   ]
  }
 ],
 "metadata": {
  "kernelspec": {
   "display_name": "Python 3",
   "language": "python",
   "name": "python3"
  },
  "language_info": {
   "codemirror_mode": {
    "name": "ipython",
    "version": 3
   },
   "file_extension": ".py",
   "mimetype": "text/x-python",
   "name": "python",
   "nbconvert_exporter": "python",
   "pygments_lexer": "ipython3",
   "version": "3.9.6"
  }
 },
 "nbformat": 4,
 "nbformat_minor": 4
}